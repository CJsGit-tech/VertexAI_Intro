{
 "cells": [
  {
   "cell_type": "code",
   "execution_count": 1,
   "id": "ba04915e",
   "metadata": {},
   "outputs": [],
   "source": [
    "import pandas as pd"
   ]
  },
  {
   "cell_type": "code",
   "execution_count": 2,
   "id": "17e19513",
   "metadata": {},
   "outputs": [],
   "source": [
    "df = pd.read_csv('NHK_program_text_data.csv')"
   ]
  },
  {
   "cell_type": "code",
   "execution_count": 3,
   "id": "afd6ff80",
   "metadata": {},
   "outputs": [
    {
     "data": {
      "text/html": [
       "<div>\n",
       "<style scoped>\n",
       "    .dataframe tbody tr th:only-of-type {\n",
       "        vertical-align: middle;\n",
       "    }\n",
       "\n",
       "    .dataframe tbody tr th {\n",
       "        vertical-align: top;\n",
       "    }\n",
       "\n",
       "    .dataframe thead th {\n",
       "        text-align: right;\n",
       "    }\n",
       "</style>\n",
       "<table border=\"1\" class=\"dataframe\">\n",
       "  <thead>\n",
       "    <tr style=\"text-align: right;\">\n",
       "      <th></th>\n",
       "      <th>info</th>\n",
       "      <th>genre_name_detailed</th>\n",
       "    </tr>\n",
       "  </thead>\n",
       "  <tbody>\n",
       "    <tr>\n",
       "      <th>0</th>\n",
       "      <td>北アルプス「北アルプスの名峰」。北アルプスに位置する百名山をはじめとする名峰の数々。</td>\n",
       "      <td>自然・動物・環境</td>\n",
       "    </tr>\n",
       "    <tr>\n",
       "      <th>1</th>\n",
       "      <td>みんなのうた「わたしの紙風船」「天下無敵のゴーヤーマン★」。「わたしの紙風船」うた：紙ふうせ...</td>\n",
       "      <td>童謡・キッズ</td>\n",
       "    </tr>\n",
       "    <tr>\n",
       "      <th>2</th>\n",
       "      <td>みんなのうた「わたしの紙風船」「天下無敵のゴーヤーマン★」。「わたしの紙風船」うた：紙ふうせ...</td>\n",
       "      <td>国内アニメ</td>\n",
       "    </tr>\n",
       "    <tr>\n",
       "      <th>3</th>\n",
       "      <td>みんなのうた「わたしの紙風船」「天下無敵のゴーヤーマン★」。「わたしの紙風船」うた：紙ふうせ...</td>\n",
       "      <td>音楽バラエティ</td>\n",
       "    </tr>\n",
       "    <tr>\n",
       "      <th>4</th>\n",
       "      <td>キャラとおたまじゃくし島（３４）「音楽堂のガッキアニマル　の巻」。まっすぐで愛にあふれた少女...</td>\n",
       "      <td>国内アニメ</td>\n",
       "    </tr>\n",
       "  </tbody>\n",
       "</table>\n",
       "</div>"
      ],
      "text/plain": [
       "                                                info genre_name_detailed\n",
       "0         北アルプス「北アルプスの名峰」。北アルプスに位置する百名山をはじめとする名峰の数々。            自然・動物・環境\n",
       "1  みんなのうた「わたしの紙風船」「天下無敵のゴーヤーマン★」。「わたしの紙風船」うた：紙ふうせ...              童謡・キッズ\n",
       "2  みんなのうた「わたしの紙風船」「天下無敵のゴーヤーマン★」。「わたしの紙風船」うた：紙ふうせ...               国内アニメ\n",
       "3  みんなのうた「わたしの紙風船」「天下無敵のゴーヤーマン★」。「わたしの紙風船」うた：紙ふうせ...             音楽バラエティ\n",
       "4  キャラとおたまじゃくし島（３４）「音楽堂のガッキアニマル　の巻」。まっすぐで愛にあふれた少女...               国内アニメ"
      ]
     },
     "execution_count": 3,
     "metadata": {},
     "output_type": "execute_result"
    }
   ],
   "source": [
    "df.head()"
   ]
  },
  {
   "cell_type": "code",
   "execution_count": 4,
   "id": "3a2bd348",
   "metadata": {},
   "outputs": [
    {
     "data": {
      "text/plain": [
       "array(['自然・動物・環境', '童謡・キッズ', '国内アニメ', '音楽バラエティ', '番組紹介・お知らせ', '定時・総合',\n",
       "       '特集・ドキュメント', 'スポーツニュース', 'ローカル・地域', '交通', '国内ドラマ', '暮らし・住まい',\n",
       "       '健康・医療', '社会・時事', 'その他', '天気', '幼児・小学生', '旅・釣り・アウトドア', '歴史・紀行',\n",
       "       '旅バラエティ', 'ドキュメンタリー全般', 'グルメ・料理', '料理バラエティ', 'カルチャー・伝統文化',\n",
       "       'トークバラエティ', 'お笑い・コメディ', '解説', '討論・会談', '国内ロック・ポップス', '海外ロック・ポップス',\n",
       "       '海外・国際', '相撲・格闘技', '中学生・高校生', '会話・語学', '音楽・美術・工芸', '手話', '高齢者',\n",
       "       '障害者', '生涯教育・資格', '民族音楽・ワールドミュージック', '文学・文芸', '園芸・ペット・手芸',\n",
       "       'コンピュータ・TVゲーム', 'クラシック・オペラ', '歌舞伎・古典', '民謡・邦楽', '社会福祉', '宇宙・科学・医学',\n",
       "       '大学生・受験', '落語・演芸', 'クイズ', '海外アニメ', 'ゴルフ', 'オリンピック・国際大会',\n",
       "       '芸能・ワイドショー', 'スポーツ', '野球', 'ライブ・コンサート', '洋画', '時代劇', '歌謡曲・演歌',\n",
       "       '政治・国会', '経済・市況', '報道特番', '教育問題', '囲碁・将棋', '海外ドラマ', 'ファッション',\n",
       "       'インタビュー・討論', 'マリン・ウィンタースポーツ', 'その他の球技', 'ゲーム', '邦画', 'ジャズ・フュージョン',\n",
       "       'マラソン・陸上・水泳', '特撮', 'サッカー', 'ボランティア', 'ダンス・バレエ', 'イベント', '現代劇・新劇',\n",
       "       'ミュージカル', 'カラオケ・のと゛自慢'], dtype=object)"
      ]
     },
     "execution_count": 4,
     "metadata": {},
     "output_type": "execute_result"
    }
   ],
   "source": [
    "df['genre_name_detailed'].unique()"
   ]
  },
  {
   "cell_type": "markdown",
   "id": "38c3a2db",
   "metadata": {},
   "source": [
    "## '自然・動物・環境'"
   ]
  },
  {
   "cell_type": "code",
   "execution_count": 5,
   "id": "7dbf83dc",
   "metadata": {},
   "outputs": [],
   "source": [
    "nature = df[df.genre_name_detailed == '自然・動物・環境']\n",
    "for idx, row in enumerate(nature['info']):\n",
    "    with open(f'data/texts/nature/nature_{idx}.txt','w',encoding='utf-8') as text:\n",
    "        text.write(row)"
   ]
  },
  {
   "cell_type": "markdown",
   "id": "7c3c5d69",
   "metadata": {},
   "source": [
    "## '中学生・高校生'"
   ]
  },
  {
   "cell_type": "code",
   "execution_count": 6,
   "id": "6a913851",
   "metadata": {},
   "outputs": [],
   "source": [
    "students = df[df.genre_name_detailed == '中学生・高校生']\n",
    "for idx, row in enumerate(students['info']):\n",
    "    with open(f'data/texts/students/students_{idx}.txt','w',encoding='utf-8') as text:\n",
    "        text.write(row)"
   ]
  },
  {
   "cell_type": "markdown",
   "id": "75d5e577",
   "metadata": {},
   "source": [
    "## '特撮'"
   ]
  },
  {
   "cell_type": "code",
   "execution_count": 7,
   "id": "2d9a83be",
   "metadata": {},
   "outputs": [],
   "source": [
    "food = df[df.genre_name_detailed == 'グルメ・料理']\n",
    "for idx, row in enumerate(food['info']):\n",
    "    with open(f'data/texts/food/food_{idx}.txt','w',encoding='utf-8') as text:\n",
    "        text.write(row)"
   ]
  },
  {
   "cell_type": "markdown",
   "id": "aa4b5a6c",
   "metadata": {},
   "source": [
    "## '健康・医療'"
   ]
  },
  {
   "cell_type": "code",
   "execution_count": 8,
   "id": "9cc1bb49",
   "metadata": {},
   "outputs": [],
   "source": [
    "health = df[df.genre_name_detailed == '健康・医療']\n",
    "for idx, row in enumerate(health['info']):\n",
    "    with open(f'data/texts/health/health_{idx}.txt','w',encoding='utf-8') as text:\n",
    "        text.write(row)"
   ]
  },
  {
   "cell_type": "markdown",
   "id": "1af61d77",
   "metadata": {},
   "source": [
    "## Create CSV paths"
   ]
  },
  {
   "cell_type": "code",
   "execution_count": 9,
   "id": "44bffb4a",
   "metadata": {},
   "outputs": [],
   "source": [
    "root = 'gs://nhk_text_classification/'"
   ]
  },
  {
   "cell_type": "code",
   "execution_count": 10,
   "id": "d9513d9f",
   "metadata": {},
   "outputs": [],
   "source": [
    "import glob"
   ]
  },
  {
   "cell_type": "code",
   "execution_count": 11,
   "id": "65648184",
   "metadata": {},
   "outputs": [],
   "source": [
    "text_paths = glob.glob('data/texts/*/*')"
   ]
  },
  {
   "cell_type": "code",
   "execution_count": 12,
   "id": "8d07e1a5",
   "metadata": {},
   "outputs": [],
   "source": [
    "files = [root + x.split('\\\\')[-2] +'/'+ x.split('\\\\')[-1] for x in text_paths]"
   ]
  },
  {
   "cell_type": "code",
   "execution_count": 13,
   "id": "0e2a2c98",
   "metadata": {},
   "outputs": [],
   "source": [
    "txt_df = pd.DataFrame()\n",
    "txt_df['label'] = ['UNASSIGNED'] * len(text_paths) \n",
    "txt_df['file_path'] = files\n",
    "txt_df['target'] = [x.split('\\\\')[-2] for x in text_paths]"
   ]
  },
  {
   "cell_type": "code",
   "execution_count": 14,
   "id": "f2f9e177",
   "metadata": {
    "scrolled": false
   },
   "outputs": [
    {
     "data": {
      "text/html": [
       "<div>\n",
       "<style scoped>\n",
       "    .dataframe tbody tr th:only-of-type {\n",
       "        vertical-align: middle;\n",
       "    }\n",
       "\n",
       "    .dataframe tbody tr th {\n",
       "        vertical-align: top;\n",
       "    }\n",
       "\n",
       "    .dataframe thead th {\n",
       "        text-align: right;\n",
       "    }\n",
       "</style>\n",
       "<table border=\"1\" class=\"dataframe\">\n",
       "  <thead>\n",
       "    <tr style=\"text-align: right;\">\n",
       "      <th></th>\n",
       "      <th>label</th>\n",
       "      <th>file_path</th>\n",
       "      <th>target</th>\n",
       "    </tr>\n",
       "  </thead>\n",
       "  <tbody>\n",
       "    <tr>\n",
       "      <th>0</th>\n",
       "      <td>UNASSIGNED</td>\n",
       "      <td>gs://nhk_text_classification/food/food_0.txt</td>\n",
       "      <td>food</td>\n",
       "    </tr>\n",
       "    <tr>\n",
       "      <th>1</th>\n",
       "      <td>UNASSIGNED</td>\n",
       "      <td>gs://nhk_text_classification/food/food_1.txt</td>\n",
       "      <td>food</td>\n",
       "    </tr>\n",
       "    <tr>\n",
       "      <th>2</th>\n",
       "      <td>UNASSIGNED</td>\n",
       "      <td>gs://nhk_text_classification/food/food_10.txt</td>\n",
       "      <td>food</td>\n",
       "    </tr>\n",
       "    <tr>\n",
       "      <th>3</th>\n",
       "      <td>UNASSIGNED</td>\n",
       "      <td>gs://nhk_text_classification/food/food_100.txt</td>\n",
       "      <td>food</td>\n",
       "    </tr>\n",
       "    <tr>\n",
       "      <th>4</th>\n",
       "      <td>UNASSIGNED</td>\n",
       "      <td>gs://nhk_text_classification/food/food_101.txt</td>\n",
       "      <td>food</td>\n",
       "    </tr>\n",
       "    <tr>\n",
       "      <th>...</th>\n",
       "      <td>...</td>\n",
       "      <td>...</td>\n",
       "      <td>...</td>\n",
       "    </tr>\n",
       "    <tr>\n",
       "      <th>1804</th>\n",
       "      <td>UNASSIGNED</td>\n",
       "      <td>gs://nhk_text_classification/students/students...</td>\n",
       "      <td>students</td>\n",
       "    </tr>\n",
       "    <tr>\n",
       "      <th>1805</th>\n",
       "      <td>UNASSIGNED</td>\n",
       "      <td>gs://nhk_text_classification/students/students...</td>\n",
       "      <td>students</td>\n",
       "    </tr>\n",
       "    <tr>\n",
       "      <th>1806</th>\n",
       "      <td>UNASSIGNED</td>\n",
       "      <td>gs://nhk_text_classification/students/students...</td>\n",
       "      <td>students</td>\n",
       "    </tr>\n",
       "    <tr>\n",
       "      <th>1807</th>\n",
       "      <td>UNASSIGNED</td>\n",
       "      <td>gs://nhk_text_classification/students/students...</td>\n",
       "      <td>students</td>\n",
       "    </tr>\n",
       "    <tr>\n",
       "      <th>1808</th>\n",
       "      <td>UNASSIGNED</td>\n",
       "      <td>gs://nhk_text_classification/students/students...</td>\n",
       "      <td>students</td>\n",
       "    </tr>\n",
       "  </tbody>\n",
       "</table>\n",
       "<p>1809 rows × 3 columns</p>\n",
       "</div>"
      ],
      "text/plain": [
       "           label                                          file_path    target\n",
       "0     UNASSIGNED       gs://nhk_text_classification/food/food_0.txt      food\n",
       "1     UNASSIGNED       gs://nhk_text_classification/food/food_1.txt      food\n",
       "2     UNASSIGNED      gs://nhk_text_classification/food/food_10.txt      food\n",
       "3     UNASSIGNED     gs://nhk_text_classification/food/food_100.txt      food\n",
       "4     UNASSIGNED     gs://nhk_text_classification/food/food_101.txt      food\n",
       "...          ...                                                ...       ...\n",
       "1804  UNASSIGNED  gs://nhk_text_classification/students/students...  students\n",
       "1805  UNASSIGNED  gs://nhk_text_classification/students/students...  students\n",
       "1806  UNASSIGNED  gs://nhk_text_classification/students/students...  students\n",
       "1807  UNASSIGNED  gs://nhk_text_classification/students/students...  students\n",
       "1808  UNASSIGNED  gs://nhk_text_classification/students/students...  students\n",
       "\n",
       "[1809 rows x 3 columns]"
      ]
     },
     "execution_count": 14,
     "metadata": {},
     "output_type": "execute_result"
    }
   ],
   "source": [
    "txt_df"
   ]
  },
  {
   "cell_type": "code",
   "execution_count": 15,
   "id": "efc2f488",
   "metadata": {},
   "outputs": [],
   "source": [
    "txt_df.to_csv('txt_labels.csv',index=0,header=0)"
   ]
  },
  {
   "cell_type": "markdown",
   "id": "a071babf",
   "metadata": {},
   "source": [
    "## Call to the Model API"
   ]
  },
  {
   "cell_type": "code",
   "execution_count": 16,
   "id": "941af5e7",
   "metadata": {},
   "outputs": [],
   "source": [
    "from google.cloud import automl\n",
    "import os\n",
    "\n",
    "#For google authentication purpose.\n",
    "#Update full path of service account credential file (JSON file)\n",
    "os.environ['GOOGLE_APPLICATION_CREDENTIALS'] = \"secert/AutoML_NHKProgramClassification_ServiceKey.json\""
   ]
  },
  {
   "cell_type": "code",
   "execution_count": 17,
   "id": "9d49144b",
   "metadata": {},
   "outputs": [],
   "source": [
    "sample_text = 'いじめをノックアウト「ＳＮＳに友だちの悪口…見つけたら　どうする？」。\\\n",
    "                ある日、友だちのＳＮＳを見たら、プロフィール欄にクラスメイトの悪口が…。\\\n",
    "                そこから、いじめを生まないために、周りの人は何ができる？高橋みなみさんの解決法は？。\\\n",
    "                「女王様気どりもいい加減にして！」本来は自己紹介などを書くＳＮＳのプロフィール欄に、\\\n",
    "                あえて名指しせずに悪口を書くいじめが、子どもたちの間で起きていると言う。大阪市立田島中学校の生徒会では、\\\n",
    "                あるエピソードをもとに「どうすれば止められるのか」を討論。書き込みに反応しない、先生に言う、そして肩を組む！？\\\n",
    "                さまざまなアイデアを出し合って解決の糸口を探す。高橋みなみさんも解決法を発案！カギは「傍観者の仲間」？'\n",
    "\n",
    "model_id = 'TCN2217038753573109760'\n",
    "project_id = 'alpine-sentry-349911'\n",
    "compute_region = 'us-central1'"
   ]
  },
  {
   "cell_type": "code",
   "execution_count": 21,
   "id": "afdb70ad",
   "metadata": {},
   "outputs": [
    {
     "name": "stdout",
     "output_type": "stream",
     "text": [
      "payload {\n",
      "  annotation_spec_id: \"6567403293671161856\"\n",
      "  classification {\n",
      "    score: 0.5809033\n",
      "  }\n",
      "  display_name: \"health\"\n",
      "}\n",
      "payload {\n",
      "  annotation_spec_id: \"1955717275243773952\"\n",
      "  classification {\n",
      "    score: 0.26224184\n",
      "  }\n",
      "  display_name: \"students\"\n",
      "}\n",
      "payload {\n",
      "  annotation_spec_id: \"7720324798278008832\"\n",
      "  classification {\n",
      "    score: 0.1523304\n",
      "  }\n",
      "  display_name: \"nature\"\n",
      "}\n",
      "payload {\n",
      "  annotation_spec_id: \"4261560284457467904\"\n",
      "  classification {\n",
      "    score: 0.0045245085\n",
      "  }\n",
      "  display_name: \"food\"\n",
      "}\n",
      "\n"
     ]
    }
   ],
   "source": [
    "prediction_client = automl.PredictionServiceClient()\n",
    "\n",
    "# Get the full path of the model.\n",
    "model_full_id = automl.AutoMlClient.model_path(project=project_id, \n",
    "                                               location=compute_region, \n",
    "                                               model=model_id)\n",
    "\n",
    "text_snippet = automl.TextSnippet(content=sample_text, \n",
    "                                  mime_type=\"text/plain\")\n",
    "\n",
    "payload = automl.ExamplePayload(text_snippet=text_snippet)\n",
    "\n",
    "response = prediction_client.predict(name=model_full_id, payload=payload)\n",
    "\n",
    "print(response)"
   ]
  },
  {
   "cell_type": "code",
   "execution_count": 26,
   "id": "bf58e467",
   "metadata": {},
   "outputs": [
    {
     "name": "stdout",
     "output_type": "stream",
     "text": [
      "Predicted class | Score\n",
      "health | 0.5809032917022705\n",
      "\n",
      "Predicted class | Score\n",
      "students | 0.26224184036254883\n",
      "\n",
      "Predicted class | Score\n",
      "nature | 0.1523303985595703\n",
      "\n",
      "Predicted class | Score\n",
      "food | 0.004524508491158485\n",
      "\n"
     ]
    }
   ],
   "source": [
    "for annotation_payload in response.payload:\n",
    "\n",
    "    print(f\"Predicted class | Score\\n{annotation_payload.display_name} | {annotation_payload.classification.score}\\n\")\n"
   ]
  },
  {
   "cell_type": "code",
   "execution_count": null,
   "id": "f7139565",
   "metadata": {},
   "outputs": [],
   "source": []
  }
 ],
 "metadata": {
  "kernelspec": {
   "display_name": "Python 3 (ipykernel)",
   "language": "python",
   "name": "python3"
  },
  "language_info": {
   "codemirror_mode": {
    "name": "ipython",
    "version": 3
   },
   "file_extension": ".py",
   "mimetype": "text/x-python",
   "name": "python",
   "nbconvert_exporter": "python",
   "pygments_lexer": "ipython3",
   "version": "3.9.12"
  }
 },
 "nbformat": 4,
 "nbformat_minor": 5
}
