{
 "cells": [
  {
   "cell_type": "code",
   "execution_count": null,
   "id": "5b7d4382",
   "metadata": {},
   "outputs": [],
   "source": [
    "# https://codelabs.developers.google.com/codelabs/automl-forecasting-with-vertex-ai#4\n",
    "# https://colab.research.google.com/github/GoogleCloudPlatform/vertex-ai-samples/blob/main/notebooks/official/automl/sdk_automl_tabular_forecasting_batch.ipynb#scrollTo=batch_request%3Ambsdk%2Cboth_csv"
   ]
  }
 ],
 "metadata": {
  "kernelspec": {
   "display_name": "Python 3 (ipykernel)",
   "language": "python",
   "name": "python3"
  },
  "language_info": {
   "codemirror_mode": {
    "name": "ipython",
    "version": 3
   },
   "file_extension": ".py",
   "mimetype": "text/x-python",
   "name": "python",
   "nbconvert_exporter": "python",
   "pygments_lexer": "ipython3",
   "version": "3.9.12"
  }
 },
 "nbformat": 4,
 "nbformat_minor": 5
}
