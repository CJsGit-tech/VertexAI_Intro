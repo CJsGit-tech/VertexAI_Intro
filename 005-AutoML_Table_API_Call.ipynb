{
 "cells": [
  {
   "cell_type": "code",
   "execution_count": 9,
   "id": "560f2a6a",
   "metadata": {},
   "outputs": [],
   "source": [
    "from google.cloud import automl_v1beta1 as automl\n",
    "import os\n",
    "import numpy as np"
   ]
  },
  {
   "cell_type": "code",
   "execution_count": 2,
   "id": "38948f79",
   "metadata": {},
   "outputs": [],
   "source": [
    "# Update full path of service account credential file (JSON file)\n",
    "os.environ['GOOGLE_APPLICATION_CREDENTIALS'] = \"secert/AutoML_CarPrice_ServiceKey.json\""
   ]
  },
  {
   "cell_type": "code",
   "execution_count": 3,
   "id": "3fb755d1",
   "metadata": {},
   "outputs": [],
   "source": [
    "project_id = 'alpine-sentry-349911'\n",
    "\n",
    "compute_region = 'us-central1'\n",
    "\n",
    "model_display_name = 'car_price_model'\n",
    "\n",
    "# feature_importance = True\n",
    "feature_importance = False\n",
    "\n",
    "inputs = {\n",
    "        'brand': 'Maruti',\n",
    "          'model':'Alto',\n",
    "          'min_cost_price':np.random.randint(low=300000,high=500000),\n",
    "          'max_cost_price':np.random.randint(low=300000,high=500000) + np.random.randint(low=100000,high=200000),\n",
    "          'vehicle_age':np.random.randint(1,10),\n",
    "          'km_driven':np.random.randint(low=100000,high=200000),\n",
    "          'seller_type':'Individual',\n",
    "          'fuel_type':'Petrol',\n",
    "          'transmission_type':'Manual',\n",
    "          'mileage':np.random.randint(low=10,high=50),\n",
    "          'engine':np.random.randint(low=200,high=800),\n",
    "          'max_power':np.random.randint(low=100,high=900),\n",
    "          'seats':np.random.randint(low=2,high=9)\n",
    "         }"
   ]
  },
  {
   "cell_type": "code",
   "execution_count": 4,
   "id": "d0493e77",
   "metadata": {},
   "outputs": [],
   "source": [
    "client = automl.TablesClient(project=project_id,\n",
    "                            region=compute_region)\n",
    "\n",
    "if feature_importance:\n",
    "    response = client.predict(\n",
    "        model_display_name=model_display_name,\n",
    "        inputs = inputs, \n",
    "        feature_importance=feature_importance\n",
    "    )\n",
    "\n",
    "else:\n",
    "    response = client.predict(\n",
    "        model_display_name=model_display_name,\n",
    "        inputs = inputs\n",
    "    )"
   ]
  },
  {
   "cell_type": "code",
   "execution_count": 5,
   "id": "e9fec279",
   "metadata": {
    "scrolled": true
   },
   "outputs": [
    {
     "data": {
      "text/plain": [
       "payload {\n",
       "  tables {\n",
       "    value {\n",
       "      number_value: 180477.15625\n",
       "    }\n",
       "    prediction_interval {\n",
       "      start: 113382.2109375\n",
       "      end: 261764.875\n",
       "    }\n",
       "  }\n",
       "}"
      ]
     },
     "execution_count": 5,
     "metadata": {},
     "output_type": "execute_result"
    }
   ],
   "source": [
    "response"
   ]
  },
  {
   "cell_type": "code",
   "execution_count": 6,
   "id": "06b38123",
   "metadata": {},
   "outputs": [
    {
     "name": "stdout",
     "output_type": "stream",
     "text": [
      "Predicted price of the car: 180477.15625\n"
     ]
    }
   ],
   "source": [
    "for result in response.payload:\n",
    "    print(\"Predicted price of the car: {}\".format(result.tables.value))\n",
    "\n",
    "\n",
    "    if feature_importance:\n",
    "        # get features of top importance\n",
    "        feat_list = [\n",
    "            (column.feature_importance, column.column_display_name)\n",
    "            for column in result.tables.tables_model_column_info\n",
    "        ]\n",
    "        feat_list.sort(reverse=True)\n",
    "        if len(feat_list) < 10:\n",
    "            feat_to_show = len(feat_list)\n",
    "        else:\n",
    "            feat_to_show = 10\n",
    "\n",
    "        print(\"Features of top importance:\")\n",
    "        for feat in feat_list[:feat_to_show]:\n",
    "            print(feat)"
   ]
  },
  {
   "cell_type": "markdown",
   "id": "dead3d12",
   "metadata": {},
   "source": [
    "## Multiple Request"
   ]
  },
  {
   "cell_type": "code",
   "execution_count": 12,
   "id": "f31fa7d0",
   "metadata": {},
   "outputs": [],
   "source": [
    "def create_sample():\n",
    "    inputs = {\n",
    "        'brand': 'Maruti',\n",
    "          'model':'Alto',\n",
    "          'min_cost_price':np.random.randint(low=300000,high=500000),\n",
    "          'max_cost_price':np.random.randint(low=300000,high=500000) + np.random.randint(low=100000,high=200000),\n",
    "          'vehicle_age':np.random.randint(1,10),\n",
    "          'km_driven':np.random.randint(low=100000,high=200000),\n",
    "          'seller_type':'Individual',\n",
    "          'fuel_type':'Petrol',\n",
    "          'transmission_type':'Manual',\n",
    "          'mileage':np.random.randint(low=10,high=50),\n",
    "          'engine':np.random.randint(low=200,high=800),\n",
    "          'max_power':np.random.randint(low=100,high=900),\n",
    "          'seats':np.random.randint(low=2,high=9)\n",
    "         }\n",
    "    return inputs"
   ]
  },
  {
   "cell_type": "code",
   "execution_count": 13,
   "id": "44ef1d61",
   "metadata": {},
   "outputs": [
    {
     "name": "stdout",
     "output_type": "stream",
     "text": [
      "Predicted price of the car: 372878.21875\n",
      "Predicted price of the car: 746131.8125\n",
      "Predicted price of the car: 1515408.875\n",
      "Predicted price of the car: 324643.71875\n",
      "Predicted price of the car: 280124.25\n",
      "Predicted price of the car: 1804737.25\n",
      "Predicted price of the car: 934067.6875\n",
      "Predicted price of the car: 1651636.0\n",
      "Predicted price of the car: 1596937.75\n",
      "Predicted price of the car: 521221.34375\n"
     ]
    }
   ],
   "source": [
    "for _ in range(10):\n",
    "    inputs = create_sample()\n",
    "    client = automl.TablesClient(project=project_id,\n",
    "                            region=compute_region)\n",
    "\n",
    "    if feature_importance:\n",
    "        response = client.predict(\n",
    "            model_display_name=model_display_name,\n",
    "            inputs = inputs, \n",
    "            feature_importance=feature_importance\n",
    "        )\n",
    "\n",
    "    else:\n",
    "        response = client.predict(\n",
    "            model_display_name=model_display_name,\n",
    "            inputs = inputs\n",
    "        )\n",
    "        \n",
    "    for result in response.payload:\n",
    "        print(\"Predicted price of the car: {}\".format(result.tables.value))"
   ]
  },
  {
   "cell_type": "code",
   "execution_count": null,
   "id": "926bfcbe",
   "metadata": {},
   "outputs": [],
   "source": []
  }
 ],
 "metadata": {
  "kernelspec": {
   "display_name": "Python 3 (ipykernel)",
   "language": "python",
   "name": "python3"
  },
  "language_info": {
   "codemirror_mode": {
    "name": "ipython",
    "version": 3
   },
   "file_extension": ".py",
   "mimetype": "text/x-python",
   "name": "python",
   "nbconvert_exporter": "python",
   "pygments_lexer": "ipython3",
   "version": "3.9.12"
  }
 },
 "nbformat": 4,
 "nbformat_minor": 5
}
