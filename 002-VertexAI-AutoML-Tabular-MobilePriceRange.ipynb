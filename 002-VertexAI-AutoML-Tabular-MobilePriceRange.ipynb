{
 "cells": [
  {
   "cell_type": "code",
   "execution_count": 1,
   "id": "6ed5bf15",
   "metadata": {},
   "outputs": [],
   "source": [
    "import os\n",
    "from google.cloud import aiplatform\n",
    "from google.protobuf import json_format\n",
    "from google.protobuf.struct_pb2 import Value\n",
    "import pandas as pd\n",
    "import numpy as np"
   ]
  },
  {
   "cell_type": "code",
   "execution_count": 2,
   "id": "78ebbe0e",
   "metadata": {},
   "outputs": [],
   "source": [
    "os.environ['GOOGLE_APPLICATION_CREDENTIALS'] = \"service_acc/alpine-sentry-349911-6e79cefcab88.json\""
   ]
  },
  {
   "cell_type": "code",
   "execution_count": 3,
   "id": "dfe96bdb",
   "metadata": {},
   "outputs": [],
   "source": [
    "def predict_tabular_classification_sample(project, endpoint_id,instance_dict,location,api_endpoint):\n",
    "    \n",
    "    # The AI Platform services require regional API endpoints.\n",
    "    client_options = {\"api_endpoint\": api_endpoint}\n",
    "    \n",
    "    # Initialize client that will be used to create and send requests.\n",
    "    # This client only needs to be created once, and can be reused for multiple requests.\n",
    "    client = aiplatform.gapic.PredictionServiceClient(client_options=client_options)\n",
    "    \n",
    "    # for more info on the instance schema, please use get_model_sample.py\n",
    "    # and look at the yaml found in instance_schema_uri\n",
    "    instance = json_format.ParseDict(instance_dict, Value())\n",
    "    instances = [instance]\n",
    "    parameters_dict = {}\n",
    "    parameters = json_format.ParseDict(parameters_dict, Value())\n",
    "    endpoint = client.endpoint_path(\n",
    "        project=project, location=location, endpoint=endpoint_id\n",
    "    )\n",
    "    response = client.predict(\n",
    "        endpoint=endpoint, instances=instances, parameters=parameters\n",
    "    )\n",
    "#     print(f\"Brand + Model Name: {instance_dict['brand']} {instance_dict['model']}\")\n",
    "#     print(\"deployed_model_id:\", response.deployed_model_id)\n",
    "    \n",
    "    predictions = response.predictions\n",
    "    for prediction in predictions:\n",
    "        result = dict(prediction)\n",
    "#         print(\"prediction:\", result)\n",
    "    return response, result"
   ]
  },
  {
   "cell_type": "markdown",
   "id": "7e22288f",
   "metadata": {},
   "source": [
    "### "
   ]
  },
  {
   "cell_type": "markdown",
   "id": "ffd90f6e",
   "metadata": {},
   "source": [
    "### Get Prediction"
   ]
  },
  {
   "cell_type": "code",
   "execution_count": 4,
   "id": "eefe3216",
   "metadata": {},
   "outputs": [],
   "source": [
    "df = pd.read_csv('data/structured-data/Mobile_price_range_cls.csv')\n",
    "n = 10\n",
    "data = df.sample(n)\n",
    "instances = []\n",
    "for i in range(n):\n",
    "    instance = data.iloc[i].to_dict()\n",
    "    for k,v in instance.items():\n",
    "        instance[k] = str(v)\n",
    "    \n",
    "    instances.append(instance)"
   ]
  },
  {
   "cell_type": "code",
   "execution_count": 10,
   "id": "7b7682fd",
   "metadata": {},
   "outputs": [
    {
     "name": "stdout",
     "output_type": "stream",
     "text": [
      "Actual Price Range: 3.0 Predicted Price Range: 3 :  1.0\n",
      "\n",
      "Actual Price Range: 2.0 Predicted Price Range: 2 :  0.9981\n",
      "\n",
      "Actual Price Range: 3.0 Predicted Price Range: 3 :  0.9965\n",
      "\n",
      "Actual Price Range: 0.0 Predicted Price Range: 0 :  0.9995\n",
      "\n",
      "Actual Price Range: 1.0 Predicted Price Range: 1 :  0.999\n",
      "\n",
      "Actual Price Range: 2.0 Predicted Price Range: 2 :  0.9487\n",
      "\n",
      "Actual Price Range: 0.0 Predicted Price Range: 0 :  1.0\n",
      "\n",
      "Actual Price Range: 1.0 Predicted Price Range: 1 :  0.9988\n",
      "\n",
      "Actual Price Range: 2.0 Predicted Price Range: 2 :  0.9338\n",
      "\n",
      "Actual Price Range: 2.0 Predicted Price Range: 2 :  0.9828\n",
      "\n"
     ]
    }
   ],
   "source": [
    "for i in range(n):\n",
    "    response, result = predict_tabular_classification_sample(project=\"797761434506\",\n",
    "                                                   endpoint_id=\"3393919716060823552\",\n",
    "                                                   location=\"us-west2\",\n",
    "                                                   api_endpoint= \"us-west2-aiplatform.googleapis.com\",\n",
    "                                                   instance_dict = instances[i])\n",
    "\n",
    "    classes = result['classes']\n",
    "    proba = np.array(result['scores'])\n",
    "    pred = classes[np.argmax(proba)]\n",
    "    \n",
    "    print(\"Actual Price Range:\",instances[i]['price_range'], \n",
    "          \"Predicted Price Range:\",pred,\": \",np.round(proba[np.argmax(proba)],4))\n",
    "    print()\n",
    "    "
   ]
  },
  {
   "cell_type": "code",
   "execution_count": 11,
   "id": "1d18ec24",
   "metadata": {},
   "outputs": [],
   "source": [
    "from typing import Dict\n",
    "from google.cloud import aiplatform_v1beta1"
   ]
  },
  {
   "cell_type": "code",
   "execution_count": 12,
   "id": "80dc45c9",
   "metadata": {},
   "outputs": [],
   "source": [
    "def explain_tabular_sample(project: str,endpoint_id: str,instance_dict: Dict,location: str = \"us-central1\",\n",
    "                           api_endpoint: str = \"us-central1-aiplatform.googleapis.com\",\n",
    "):\n",
    "    # The AI Platform services require regional API endpoints.\n",
    "    client_options = {\"api_endpoint\": api_endpoint}\n",
    "    \n",
    "    # Initialize client that will be used to create and send requests.\n",
    "    # This client only needs to be created once, and can be reused for multiple requests.\n",
    "    client = aiplatform_v1beta1.PredictionServiceClient(client_options=client_options)\n",
    "    \n",
    "    # The format of each instance should conform to the deployed model's prediction input schema.\n",
    "    instance = json_format.ParseDict(instance_dict, Value())\n",
    "    instances = [instance]\n",
    "    \n",
    "    # tabular models do not have additional parameters\n",
    "    parameters_dict = {}\n",
    "    parameters = json_format.ParseDict(parameters_dict, Value())\n",
    "    endpoint = client.endpoint_path(\n",
    "        project=project, location=location, endpoint=endpoint_id\n",
    "    )\n",
    "    response = client.explain(\n",
    "        endpoint=endpoint, instances=instances, parameters=parameters\n",
    "    )\n",
    "    print(\"response\")\n",
    "    print(\" deployed_model_id:\", response.deployed_model_id)\n",
    "    explanations = response.explanations\n",
    "    for explanation in explanations:\n",
    "        print(\" explanation\")\n",
    "        # Feature attributions.\n",
    "        attributions = explanation.attributions\n",
    "        for attribution in attributions:\n",
    "            print(\"  attribution\")\n",
    "            print(\"   baseline_output_value:\", attribution.baseline_output_value)\n",
    "            print(\"   instance_output_value:\", attribution.instance_output_value)\n",
    "            print(\"   output_display_name:\", attribution.output_display_name)\n",
    "            print(\"   approximation_error:\", attribution.approximation_error)\n",
    "            print(\"   output_name:\", attribution.output_name)\n",
    "            output_index = attribution.output_index\n",
    "            for output_index in output_index:\n",
    "                print(\"   output_index:\", output_index)\n",
    "    predictions = response.predictions\n",
    "    for prediction in predictions:\n",
    "        print(\" prediction:\", dict(prediction))"
   ]
  },
  {
   "cell_type": "code",
   "execution_count": 13,
   "id": "2c06a0f9",
   "metadata": {},
   "outputs": [
    {
     "name": "stdout",
     "output_type": "stream",
     "text": [
      "response\n",
      " deployed_model_id: 830104890691813376\n",
      " explanation\n",
      "  attribution\n",
      "   baseline_output_value: 2.4056191705312813e-07\n",
      "   instance_output_value: 1.0\n",
      "   output_display_name: 3\n",
      "   approximation_error: 0.000555801154407209\n",
      "   output_name: scores\n",
      "   output_index: 3\n",
      " prediction: {'scores': [2.968311614669329e-24, 1.096669934986271e-17, 4.75908130681546e-08, 1.0], 'classes': ['0', '1', '2', '3']}\n"
     ]
    }
   ],
   "source": [
    "explain_tabular_sample(project=\"797761434506\",\n",
    "                       endpoint_id=\"3393919716060823552\",\n",
    "                       location=\"us-west2\",\n",
    "                       api_endpoint= \"us-west2-aiplatform.googleapis.com\",\n",
    "                       instance_dict = instances[0])"
   ]
  },
  {
   "cell_type": "code",
   "execution_count": null,
   "id": "568b6aa2",
   "metadata": {},
   "outputs": [],
   "source": []
  }
 ],
 "metadata": {
  "kernelspec": {
   "display_name": "Python 3 (ipykernel)",
   "language": "python",
   "name": "python3"
  },
  "language_info": {
   "codemirror_mode": {
    "name": "ipython",
    "version": 3
   },
   "file_extension": ".py",
   "mimetype": "text/x-python",
   "name": "python",
   "nbconvert_exporter": "python",
   "pygments_lexer": "ipython3",
   "version": "3.9.12"
  }
 },
 "nbformat": 4,
 "nbformat_minor": 5
}
